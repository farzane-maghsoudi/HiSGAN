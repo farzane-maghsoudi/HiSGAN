{
  "cells": [
    {
      "cell_type": "code",
      "execution_count": null,
      "metadata": {
        "colab": {
          "background_save": true
        },
        "id": "Ia_JWxQPr4mi",
        "outputId": "ab9fb59b-44bc-4fcf-c9f5-b8df5da7b207"
      },
      "outputs": [
        {
          "name": "stdout",
          "output_type": "stream",
          "text": [
            "Cloning into 'NICE-GAN-pytorch'...\n",
            "remote: Enumerating objects: 642, done.\u001b[K\n",
            "remote: Counting objects: 100% (14/14), done.\u001b[K\n",
            "remote: Compressing objects: 100% (12/12), done.\u001b[K\n",
            "remote: Total 642 (delta 3), reused 9 (delta 2), pack-reused 628\u001b[K\n",
            "Receiving objects: 100% (642/642), 110.53 MiB | 47.22 MiB/s, done.\n",
            "Resolving deltas: 100% (99/99), done.\n"
          ]
        }
      ],
      "source": [
        "!git clone https://github.com/alpc91/NICE-GAN-pytorch\n",
        "import os\n",
        "os.chdir('NICE-GAN-pytorch/')"
      ]
    },
    {
      "cell_type": "code",
      "execution_count": null,
      "metadata": {
        "id": "Oif9m6YisAoT"
      },
      "outputs": [],
      "source": [
        "!pip install -r requirements.txt"
      ]
    },
    {
      "cell_type": "code",
      "execution_count": null,
      "metadata": {
        "id": "xcJ11Ky2sqXI"
      },
      "outputs": [],
      "source": [
        "!bash ./download_dataset.sh mini"
      ]
    },
    {
      "cell_type": "code",
      "execution_count": null,
      "metadata": {
        "id": "HdJxrQbasuN0"
      },
      "outputs": [],
      "source": [
        "!python main.py --dataset mini --light True"
      ]
    },
    {
      "cell_type": "markdown",
      "metadata": {
        "id": "prEbNjLlYvRW"
      },
      "source": [
        "Restoring from the previous checkpoint"
      ]
    },
    {
      "cell_type": "code",
      "execution_count": null,
      "metadata": {
        "id": "dzhVLQd5Wocl"
      },
      "outputs": [],
      "source": [
        "!python main.py --dataset mini --resume True --light True"
      ]
    },
    {
      "cell_type": "markdown",
      "metadata": {
        "id": "9Jwa7b_sqNd2"
      },
      "source": [
        "test"
      ]
    },
    {
      "cell_type": "code",
      "execution_count": null,
      "metadata": {
        "id": "UPi24cgQqOnc"
      },
      "outputs": [],
      "source": [
        "!python main.py --dataset mini --phase test --light True"
      ]
    },
    {
      "cell_type": "markdown",
      "metadata": {
        "id": "4lp9_uPnXu5j"
      },
      "source": [
        "# Copy checkpoint to GoogleDrive and convert"
      ]
    },
    {
      "cell_type": "code",
      "execution_count": null,
      "metadata": {
        "colab": {
          "base_uri": "https://localhost:8080/"
        },
        "id": "9L6thyBIX0Gk",
        "outputId": "ec03d9f2-5365-4239-9aa1-0547f881eccf"
      },
      "outputs": [
        {
          "name": "stdout",
          "output_type": "stream",
          "text": [
            "Mounted at /content/gdrive\n"
          ]
        }
      ],
      "source": [
        "from google.colab import drive\n",
        "drive.mount(\"/content/gdrive\")"
      ]
    },
    {
      "cell_type": "code",
      "execution_count": null,
      "metadata": {
        "id": "3fP1Qj1qdy9m"
      },
      "outputs": [],
      "source": [
        "!mkdir ./results"
      ]
    },
    {
      "cell_type": "code",
      "execution_count": null,
      "metadata": {
        "id": "3f9eijvRX4W7"
      },
      "outputs": [],
      "source": [
        "#a = 501000\n",
        "b = \"/content/gdrive/MyDrive/checkpointNiceGAN/mini_params_latest.pt\"\n",
        "c = \"/content/NICE-GAN-pytorch/results/mini_params_latest.pt\"\n",
        "f1 = \"/content/gdrive/MyDrive/checkpointNiceGAN/mini_params_0000200.pt\"\n",
        "f2 = \"/content/NICE-GAN-pytorch/results/mini/model/mini_params_0000200.pt\"\n",
        "#f3 = \"/UGATIT_light.model-\" + str(a)+ \".data-00000-of-00001\"\n",
        "#f = \"/checkpoint\""
      ]
    },
    {
      "cell_type": "code",
      "execution_count": null,
      "metadata": {
        "id": "VfBM8hzZwemR"
      },
      "outputs": [],
      "source": [
        "os.path.join(self.result_dir, self.dataset, 'model')"
      ]
    },
    {
      "cell_type": "markdown",
      "metadata": {
        "id": "bAMbdAQ-X-96"
      },
      "source": [
        "Colab to Drive"
      ]
    },
    {
      "cell_type": "code",
      "execution_count": null,
      "metadata": {
        "colab": {
          "base_uri": "https://localhost:8080/",
          "height": 35
        },
        "id": "L2_fO1LfX_5o",
        "outputId": "273fb2f9-a1ba-4681-e6ac-8c598b1afe59"
      },
      "outputs": [
        {
          "data": {
            "application/vnd.google.colaboratory.intrinsic+json": {
              "type": "string"
            },
            "text/plain": [
              "'/content/gdrive/MyDrive/checkpointNiceGAN/mini_params_latest.pt'"
            ]
          },
          "execution_count": 10,
          "metadata": {},
          "output_type": "execute_result"
        }
      ],
      "source": [
        "import shutil\n",
        "shutil.copy( c , b )\n",
        "#shutil.copy( c+f2 , b+f2 )\n",
        "#shutil.copy( c+f3 , b+f3 )\n",
        "#shutil.copy( c+f , b+f )"
      ]
    },
    {
      "cell_type": "markdown",
      "metadata": {
        "id": "29pgwF9qYDE5"
      },
      "source": [
        "Drive to Colab"
      ]
    },
    {
      "cell_type": "code",
      "execution_count": null,
      "metadata": {
        "colab": {
          "base_uri": "https://localhost:8080/",
          "height": 35
        },
        "id": "njedhU5AYE8o",
        "outputId": "fc1a7ac4-ac12-4664-e02e-569f3ab84367"
      },
      "outputs": [
        {
          "data": {
            "application/vnd.google.colaboratory.intrinsic+json": {
              "type": "string"
            },
            "text/plain": [
              "'/content/gdrive/MyDrive/checkpointNiceGAN/mini_params_0000200.pt'"
            ]
          },
          "execution_count": 12,
          "metadata": {},
          "output_type": "execute_result"
        }
      ],
      "source": [
        "import shutil\n",
        "shutil.copy( f2 , f1 )\n",
        "#shutil.copy( b+f2 , c+f2 )\n",
        "#shutil.copy( b+f3 , c+f3 )\n",
        "#shutil.copy( b+f , c+f )"
      ]
    },
    {
      "cell_type": "code",
      "execution_count": null,
      "metadata": {
        "id": "o2ObNFyGfO3O"
      },
      "outputs": [],
      "source": [
        "shutil.copy( b , c )"
      ]
    },
    {
      "cell_type": "markdown",
      "metadata": {
        "id": "-hOqd95WYNvQ"
      },
      "source": [
        "# Download"
      ]
    },
    {
      "cell_type": "code",
      "execution_count": null,
      "metadata": {
        "id": "ZAV-uyNkYPh-"
      },
      "outputs": [],
      "source": [
        "import os\n",
        "aa = os.path.abspath(os.getcwd())\n",
        "os.chdir('/content/UG/checkpoint/UGATIT_light_apple2orange_lsgan_4resblock_6dis_1_1_10_10_1000_1_1_1_sn_smoothing')\n",
        "os.chdir('/content/UG')"
      ]
    },
    {
      "cell_type": "code",
      "execution_count": null,
      "metadata": {
        "id": "Y6wyzGjyYR3u"
      },
      "outputs": [],
      "source": [
        "os.chdir('/content/UG/checkpoint/UGATIT_light_apple2orange_lsgan_4resblock_6dis_1_1_10_10_1000_1_1_1_sn_smoothing')\n",
        "from google.colab import files\n",
        "#files.download('UGATIT_light.model-' + counter + '.index')\n",
        "#files.download('UGATIT_light.model-' + counter + '.meta')\n",
        "files.download('UGATIT_light.model-' + '5001' + '.data-00000-of-00001')"
      ]
    }
  ],
  "metadata": {
    "accelerator": "GPU",
    "colab": {
      "provenance": []
    },
    "kernelspec": {
      "display_name": "Python 3",
      "name": "python3"
    },
    "language_info": {
      "name": "python"
    }
  },
  "nbformat": 4,
  "nbformat_minor": 0
}