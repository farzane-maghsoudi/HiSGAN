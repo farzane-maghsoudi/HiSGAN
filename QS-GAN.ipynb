{
  "nbformat": 4,
  "nbformat_minor": 0,
  "metadata": {
    "colab": {
      "provenance": []
    },
    "kernelspec": {
      "display_name": "Python 3",
      "name": "python3"
    },
    "language_info": {
      "name": "python"
    },
    "accelerator": "GPU"
  },
  "cells": [
    {
      "cell_type": "markdown",
      "metadata": {
        "id": "_BFqUmxovuBh"
      },
      "source": [
        "# Install"
      ]
    },
    {
      "cell_type": "code",
      "metadata": {
        "id": "VUSOUfRjxRY9"
      },
      "source": [
        "!git clone https://github.com/farzane-maghsoudi/TTL-GAN\n",
        "import os\n",
        "os.chdir('TTL-GAN/')\n",
        "!pip install -r requirements.txt\n",
        "!bash ./download_dataset.sh horse2zebra"
      ],
      "execution_count": null,
      "outputs": []
    },
    {
      "cell_type": "markdown",
      "metadata": {
        "id": "p3acPlpUwBDo"
      },
      "source": [
        "#dataset"
      ]
    },
    {
      "cell_type": "code",
      "metadata": {
        "id": "dpm-wIZqtKis"
      },
      "source": [
        "!bash ./download_dataset.sh horse2zebra"
      ],
      "execution_count": null,
      "outputs": []
    },
    {
      "cell_type": "markdown",
      "metadata": {
        "id": "pPKcL0sUxnMR"
      },
      "source": [
        "#Training"
      ]
    },
    {
      "cell_type": "code",
      "metadata": {
        "id": "0tTe3RjhxpUV"
      },
      "source": [
        "!python main.py --dataset horse2zebra --light True"
      ],
      "execution_count": null,
      "outputs": []
    },
    {
      "cell_type": "markdown",
      "source": [
        "Restoring from the previous checkpoint"
      ],
      "metadata": {
        "id": "hJotgpWWmtYO"
      }
    },
    {
      "cell_type": "code",
      "source": [
        "!python main.py --dataset horse2zebra --resume True --light True"
      ],
      "metadata": {
        "id": "jR887IjrmvIa"
      },
      "execution_count": null,
      "outputs": []
    },
    {
      "cell_type": "markdown",
      "metadata": {
        "id": "-sXLWEvaxqVl"
      },
      "source": [
        "#Testing"
      ]
    },
    {
      "cell_type": "code",
      "metadata": {
        "id": "hjeKtGGgxwPT"
      },
      "source": [
        "!python main.py --dataset mini --phase test --light True"
      ],
      "execution_count": null,
      "outputs": []
    },
    {
      "cell_type": "markdown",
      "metadata": {
        "id": "sgxUHjCmc-jN"
      },
      "source": [
        "#Copy checkpoint to GoogleDrive and convert\n",
        "\n",
        "\n"
      ]
    },
    {
      "cell_type": "code",
      "metadata": {
        "id": "o0kgt7hBdR_j",
        "colab": {
          "base_uri": "https://localhost:8080/"
        },
        "outputId": "317eb57f-84cd-412b-829a-046e938d78bb"
      },
      "source": [
        "from google.colab import drive\n",
        "drive.mount(\"/content/gdrive\")"
      ],
      "execution_count": null,
      "outputs": [
        {
          "output_type": "stream",
          "name": "stdout",
          "text": [
            "Mounted at /content/gdrive\n"
          ]
        }
      ]
    },
    {
      "cell_type": "code",
      "source": [
        "!mkdir ./results"
      ],
      "metadata": {
        "id": "NJh19kB6nIuV"
      },
      "execution_count": null,
      "outputs": []
    },
    {
      "cell_type": "code",
      "source": [
        "b = \"/content/gdrive/MyDrive/checkpointTTL-GAN/horse2zebra_params_latest.pt\"\n",
        "c = \"/content/TTL-GAN/results/horse2zebra_params_latest.pt\"\n",
        "f1 = \"/content/gdrive/MyDrive/checkpointTTL-GAN/horse2zebra_params_0002000.pt\"\n",
        "f2 = \"/content/TTL-GAN/results/horse2zebra/model/horse2zebra_params_0002000.pt\"\n",
        "cc = \"/content/TTL-GAN/results/horse2zebra_params_0002000.pt\""
      ],
      "metadata": {
        "id": "RpzcPQewnN7z"
      },
      "execution_count": null,
      "outputs": []
    },
    {
      "cell_type": "markdown",
      "metadata": {
        "id": "4WYiXhHHe-JP"
      },
      "source": [
        "Colab to Drive"
      ]
    },
    {
      "cell_type": "code",
      "metadata": {
        "id": "0PhFuKZxaokL"
      },
      "source": [
        "import shutil\n",
        "shutil.copy( c , b )\n",
        "shutil.copy( f2 , f1 )"
      ],
      "execution_count": null,
      "outputs": []
    },
    {
      "cell_type": "markdown",
      "metadata": {
        "id": "nUlQqL_GfXLf"
      },
      "source": [
        "Drive to Colab"
      ]
    },
    {
      "cell_type": "code",
      "metadata": {
        "id": "b8C1wN-1dPAf",
        "colab": {
          "base_uri": "https://localhost:8080/",
          "height": 36
        },
        "outputId": "ab67d5ae-f4c9-491d-bc98-9296a6543d81"
      },
      "source": [
        "import shutil\n",
        "shutil.copy( f1 , cc )"
      ],
      "execution_count": null,
      "outputs": [
        {
          "output_type": "execute_result",
          "data": {
            "text/plain": [
              "'/content/TTL-GAN/results/horse2zebra_params_0002000.pt'"
            ],
            "application/vnd.google.colaboratory.intrinsic+json": {
              "type": "string"
            }
          },
          "metadata": {},
          "execution_count": 15
        }
      ]
    },
    {
      "cell_type": "markdown",
      "metadata": {
        "id": "kPBCXY52DQdb"
      },
      "source": [
        "#Test save"
      ]
    },
    {
      "cell_type": "code",
      "metadata": {
        "id": "gOoPpNiSDcvJ"
      },
      "source": [
        "#import shutil\n",
        "#b = \"/content/gdrive/MyDrive/results/501/UGATIT_light_apple2orange_lsgan_4resblock_6dis_1_1_10_10_1000_1_1_1_sn_smoothing\"\n",
        "#c = \"/content/UG/results/UGATIT_light_apple2orange_lsgan_4resblock_6dis_1_1_10_10_1000_1_1_1_sn_smoothing\"\n",
        "!cp \"/content/UG/results/UGATIT_light_apple2orange_lsgan_4resblock_6dis_1_1_10_10_1000_1_1_1_sn_smoothing\" -r \"/content/gdrive/MyDrive/results\""
      ],
      "execution_count": null,
      "outputs": []
    },
    {
      "cell_type": "code",
      "source": [
        "n_blocks = 8\n",
        "for i in range(2, n_blocks+1):\n",
        "  if i%3 == 0:\n",
        "    x2 = 3\n",
        "    print (i, x2)\n",
        "  if i%3 == 1:\n",
        "    x3 = 4\n",
        "    print (i, x3)\n",
        "  if i%3 == 2:\n",
        "    if i> 4:\n",
        "      x4 = 10\n",
        "      print (i, x4)\n",
        "    else:\n",
        "      x4 = 5\n",
        "      print (i, x4)"
      ],
      "metadata": {
        "id": "_0jBVxT9ZZIp"
      },
      "execution_count": null,
      "outputs": []
    },
    {
      "cell_type": "code",
      "source": [
        "import torch\n",
        "import torch.nn as nn\n",
        "a = torch.randn(1,256, 64, 64)\n",
        "#a = torch.reshape(a, (256, 64, 64))\n",
        "atten  = torch.nn.MultiheadAttention(64, 8)\n",
        "relu = torch.nn.ReLU(True)\n",
        "class MultiSelfAttentionBlock(nn.Module):\n",
        "    def __init__(self, atten, relu, dim =64, featur = 256):\n",
        "      super(MultiSelfAttentionBlock, self).__init__()\n",
        "      self.dim = dim\n",
        "      self.featur = featur\n",
        "      self.atten  = atten\n",
        "      self.relu  = relu\n",
        "\n",
        "\n",
        "    def forward(self, x):\n",
        "      print(\"as\")\n",
        "      out = torch.reshape(x, (self.featur, self.dim, self.dim))\n",
        "      out, _ = self.atten(out, out, out)\n",
        "      out = self.relu(torch.reshape(out, (1, self.featur, self.dim, self.dim)))\n",
        "      print(\"a\")\n",
        "\n",
        "      return out\n",
        "\n",
        "#out, _ = atten(a, a, a)\n",
        "#out = torch.reshape(out, (1, 256, 64, 64))\n",
        "for i in range(3):\n",
        "  out = MultiSelfAttentionBlock(a, atten, relu)\n",
        "  #print (out.shape)"
      ],
      "metadata": {
        "id": "HikzH9oaeI0m"
      },
      "execution_count": null,
      "outputs": []
    },
    {
      "cell_type": "code",
      "source": [
        "import torch\n",
        "import torch.nn as nn\n",
        "a = torch.randn(1,256, 64, 64)\n",
        "atten  = torch.nn.MultiheadAttention(64, 8)\n",
        "relu = torch.nn.ReLU(True)\n",
        "for i in range(3):\n",
        "  print(\"as\")\n",
        "  out = torch.reshape(a, (256, 64, 64))\n",
        "  out, _ = atten(out, out, out)\n",
        "  out = torch.reshape(out, (1, 256, 64, 64))\n",
        "  out = relu(out)\n",
        "  print(\"a\")\n",
        "  print (out.shape)"
      ],
      "metadata": {
        "id": "rkky1MiGLiVF"
      },
      "execution_count": null,
      "outputs": []
    },
    {
      "cell_type": "code",
      "source": [
        "import torch\n",
        "import torch.nn as nn\n",
        "x = torch.randn(1,256, 64, 64)\n",
        "atten  = torch.nn.MultiheadAttention(64, 8)\n",
        "relu = torch.nn.ReLU(True)\n",
        "n_blocks = 8\n",
        "out = torch.reshape(x, (256, 64, 64))\n",
        "out, _ = atten(out, out, out)\n",
        "out = relu(torch.reshape(out, (1, 256, 64, 64)))\n",
        "xa1 = out\n",
        "xa11 = out\n",
        "if n_blocks>1:\n",
        "  for i in range(2, 8+1):\n",
        "    if i%3 == 2:\n",
        "      out = torch.reshape(out, (256, 64, 64))\n",
        "      out, _ = atten(out, out, out)\n",
        "      xa2 = out = relu(torch.reshape(out, (1, 256, 64, 64)))\n",
        "      print (i)\n",
        "    elif i%3 == 0:\n",
        "      out = torch.reshape(out + xa1, (256, 64, 64))\n",
        "      out, _ = atten(out, out, out)\n",
        "      xa3 = out = relu(torch.reshape(out, (1, 256, 64, 64)))\n",
        "      print (i)\n",
        "    elif i < 6:\n",
        "      out = torch.reshape(out + xa1 + xa2, (256, 64, 64))\n",
        "      out, _ = atten(out, out, out)\n",
        "      xa1 = out = relu(torch.reshape(out, (1, 256, 64, 64)))\n",
        "      print (i)\n",
        "    else:\n",
        "      out = torch.reshape(out + xa1 + xa2 + xa11, (256, 64, 64))\n",
        "      out, _ = atten(out, out, out)\n",
        "      xa11 = xa1\n",
        "      xa1 = out = relu(torch.reshape(out, (1, 256, 64, 64)))\n",
        "      print (i)"
      ],
      "metadata": {
        "id": "xS0FWeH5PWC_"
      },
      "execution_count": null,
      "outputs": []
    },
    {
      "cell_type": "code",
      "source": [
        "import torch\n",
        "import torch.nn as nn\n",
        "a = torch.randn(1,128, 56, 56)\n",
        "b = torch.randn(1,128, 28, 28)\n",
        "c = torch.randn(1,128, 14, 14)\n",
        "up1 = nn.Upsample(scale_factor=2, mode='bilinear', align_corners=True)\n",
        "up2 = nn.Upsample(scale_factor=4, mode='bilinear', align_corners=True)\n",
        "pad1 = nn.ReflectionPad2d(4)\n",
        "pad2 = nn.ReflectionPad2d(4)\n",
        "pad3 = nn.ReflectionPad2d(4)\n",
        "a = pad1 (a)\n",
        "b = up1(b)\n",
        "b = pad2(b)\n",
        "c = up2(c)\n",
        "c = pad3(c)\n",
        "print (a.shape)\n",
        "print(b.shape)\n",
        "print(c.shape)"
      ],
      "metadata": {
        "id": "Uqtv7XcgpkDb"
      },
      "execution_count": null,
      "outputs": []
    },
    {
      "cell_type": "code",
      "source": [
        "self.save(self.checkpoint_dir, counter)\n",
        "\t\t\t\t    a = (epoch+1)*1000\n",
        "\t\t\t\t    b = \"/content/gdrive/MyDrive/checkpoint/UGATIT_light_apple2orange_lsgan_4resblock_6dis_1_1_10_10_1000_1_1_1_sn_smoothing\"\n",
        "\t\t\t\t    c = \"/content/UG/checkpoint/UGATIT_light_apple2orange_lsgan_4resblock_6dis_1_1_10_10_1000_1_1_1_sn_smoothing\"\n",
        "\t\t\t\t    f1 = \"/UGATIT_light.model-\"+ str(a)+ \".index\"\n",
        "\t\t\t\t    f2 = \"/UGATIT_light.model-\"+ str(a)+ \".meta\"\n",
        "\t\t\t\t    f3 = \"/UGATIT_light.model-\" + str(a)+ \".data-00000-of-00001\"\n",
        "\t\t\t\t    f = \"/checkpoint\"\n",
        "\t\t\t\t    import shutil\n",
        "\t\t\t\t    shutil.copy( c+f1 , b+f1 )\n",
        "\t\t\t\t    shutil.copy( c+f2 , b+f2 )\n",
        "\t\t\t\t    shutil.copy( c+f3 , b+f3 )\n",
        "\t\t\t\t    shutil.copy( c+f , b+f )"
      ],
      "metadata": {
        "id": "1C0aM6hMi83r"
      },
      "execution_count": null,
      "outputs": []
    },
    {
      "cell_type": "code",
      "source": [
        "import torch\n",
        "import torch.nn as nn\n",
        "a = torch.randn(1,4, 4,3)\n",
        "s1 = torch.linalg.svdvals(a)\n",
        "out = torch.reshape(s1[0,:,0], (-1,))\n",
        "#print(out.shape)\n",
        "print(s1.shape)\n",
        "print(s1)\n",
        "print(out)\n",
        "#print(out[:,1,1])\n",
        "\n",
        "#b = torch.cartesian_prod()"
      ],
      "metadata": {
        "id": "dN_WxXQcs2Ik",
        "outputId": "dd856439-d40c-4ed3-b95d-4e867774b28c",
        "colab": {
          "base_uri": "https://localhost:8080/"
        }
      },
      "execution_count": 43,
      "outputs": [
        {
          "output_type": "stream",
          "name": "stdout",
          "text": [
            "torch.Size([1, 4, 3])\n",
            "tensor([[[3.0127, 1.5599, 0.6251],\n",
            "         [3.5843, 1.2355, 0.8674],\n",
            "         [2.9782, 2.0144, 0.9867],\n",
            "         [2.5381, 2.2221, 1.6962]]])\n",
            "tensor([3.0127, 3.5843, 2.9782, 2.5381])\n"
          ]
        }
      ]
    }
  ]
}