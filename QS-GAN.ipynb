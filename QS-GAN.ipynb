{
  "nbformat": 4,
  "nbformat_minor": 0,
  "metadata": {
    "colab": {
      "provenance": []
    },
    "kernelspec": {
      "display_name": "Python 3",
      "name": "python3"
    },
    "language_info": {
      "name": "python"
    },
    "accelerator": "GPU"
  },
  "cells": [
    {
      "cell_type": "markdown",
      "metadata": {
        "id": "_BFqUmxovuBh"
      },
      "source": [
        "# Install"
      ]
    },
    {
      "cell_type": "code",
      "metadata": {
        "id": "VUSOUfRjxRY9"
      },
      "source": [
        "!git clone https://github.com/farzane-maghsoudi/TTL-GAN\n",
        "import os\n",
        "os.chdir('TTL-GAN/')\n",
        "!pip install -r requirements.txt\n",
        "!bash ./download_dataset.sh horse2zebra"
      ],
      "execution_count": null,
      "outputs": []
    },
    {
      "cell_type": "markdown",
      "metadata": {
        "id": "p3acPlpUwBDo"
      },
      "source": [
        "#dataset"
      ]
    },
    {
      "cell_type": "code",
      "metadata": {
        "id": "dpm-wIZqtKis"
      },
      "source": [
        "!bash ./download_dataset.sh horse2zebra"
      ],
      "execution_count": null,
      "outputs": []
    },
    {
      "cell_type": "markdown",
      "metadata": {
        "id": "pPKcL0sUxnMR"
      },
      "source": [
        "#Training"
      ]
    },
    {
      "cell_type": "code",
      "metadata": {
        "id": "0tTe3RjhxpUV"
      },
      "source": [
        "!python main.py --dataset horse2zebra --light True"
      ],
      "execution_count": null,
      "outputs": []
    },
    {
      "cell_type": "markdown",
      "source": [
        "Restoring from the previous checkpoint"
      ],
      "metadata": {
        "id": "hJotgpWWmtYO"
      }
    },
    {
      "cell_type": "code",
      "source": [
        "!python main.py --dataset horse2zebra --resume True --light True"
      ],
      "metadata": {
        "id": "jR887IjrmvIa"
      },
      "execution_count": null,
      "outputs": []
    },
    {
      "cell_type": "markdown",
      "metadata": {
        "id": "-sXLWEvaxqVl"
      },
      "source": [
        "#Testing"
      ]
    },
    {
      "cell_type": "code",
      "metadata": {
        "id": "hjeKtGGgxwPT"
      },
      "source": [
        "!python main.py --dataset mini --phase test --light True"
      ],
      "execution_count": null,
      "outputs": []
    },
    {
      "cell_type": "markdown",
      "metadata": {
        "id": "sgxUHjCmc-jN"
      },
      "source": [
        "#Copy checkpoint to GoogleDrive and convert\n",
        "\n",
        "\n"
      ]
    },
    {
      "cell_type": "code",
      "metadata": {
        "id": "o0kgt7hBdR_j",
        "colab": {
          "base_uri": "https://localhost:8080/"
        },
        "outputId": "317eb57f-84cd-412b-829a-046e938d78bb"
      },
      "source": [
        "from google.colab import drive\n",
        "drive.mount(\"/content/gdrive\")"
      ],
      "execution_count": null,
      "outputs": [
        {
          "output_type": "stream",
          "name": "stdout",
          "text": [
            "Mounted at /content/gdrive\n"
          ]
        }
      ]
    },
    {
      "cell_type": "code",
      "source": [
        "!mkdir ./results"
      ],
      "metadata": {
        "id": "NJh19kB6nIuV"
      },
      "execution_count": null,
      "outputs": []
    },
    {
      "cell_type": "code",
      "source": [
        "b = \"/content/gdrive/MyDrive/checkpointTTL-GAN/horse2zebra_params_latest.pt\"\n",
        "c = \"/content/TTL-GAN/results/horse2zebra_params_latest.pt\"\n",
        "f1 = \"/content/gdrive/MyDrive/checkpointTTL-GAN/horse2zebra_params_0002000.pt\"\n",
        "f2 = \"/content/TTL-GAN/results/horse2zebra/model/horse2zebra_params_0002000.pt\"\n",
        "cc = \"/content/TTL-GAN/results/horse2zebra_params_0002000.pt\""
      ],
      "metadata": {
        "id": "RpzcPQewnN7z"
      },
      "execution_count": null,
      "outputs": []
    },
    {
      "cell_type": "markdown",
      "metadata": {
        "id": "4WYiXhHHe-JP"
      },
      "source": [
        "Colab to Drive"
      ]
    },
    {
      "cell_type": "code",
      "metadata": {
        "id": "0PhFuKZxaokL"
      },
      "source": [
        "import shutil\n",
        "shutil.copy( c , b )\n",
        "shutil.copy( f2 , f1 )"
      ],
      "execution_count": null,
      "outputs": []
    },
    {
      "cell_type": "markdown",
      "metadata": {
        "id": "nUlQqL_GfXLf"
      },
      "source": [
        "Drive to Colab"
      ]
    },
    {
      "cell_type": "code",
      "metadata": {
        "id": "b8C1wN-1dPAf",
        "colab": {
          "base_uri": "https://localhost:8080/",
          "height": 36
        },
        "outputId": "ab67d5ae-f4c9-491d-bc98-9296a6543d81"
      },
      "source": [
        "import shutil\n",
        "shutil.copy( f1 , cc )"
      ],
      "execution_count": null,
      "outputs": [
        {
          "output_type": "execute_result",
          "data": {
            "text/plain": [
              "'/content/TTL-GAN/results/horse2zebra_params_0002000.pt'"
            ],
            "application/vnd.google.colaboratory.intrinsic+json": {
              "type": "string"
            }
          },
          "metadata": {},
          "execution_count": 15
        }
      ]
    },
    {
      "cell_type": "markdown",
      "metadata": {
        "id": "kPBCXY52DQdb"
      },
      "source": [
        "#Test save"
      ]
    },
    {
      "cell_type": "code",
      "metadata": {
        "id": "gOoPpNiSDcvJ"
      },
      "source": [
        "#import shutil\n",
        "#b = \"/content/gdrive/MyDrive/results/501/UGATIT_light_apple2orange_lsgan_4resblock_6dis_1_1_10_10_1000_1_1_1_sn_smoothing\"\n",
        "#c = \"/content/UG/results/UGATIT_light_apple2orange_lsgan_4resblock_6dis_1_1_10_10_1000_1_1_1_sn_smoothing\"\n",
        "!cp \"/content/UG/results/UGATIT_light_apple2orange_lsgan_4resblock_6dis_1_1_10_10_1000_1_1_1_sn_smoothing\" -r \"/content/gdrive/MyDrive/results\""
      ],
      "execution_count": null,
      "outputs": []
    },
    {
      "cell_type": "code",
      "source": [
        "n_blocks = 8\n",
        "for i in range(2, n_blocks+1):\n",
        "  if i%3 == 0:\n",
        "    x2 = 3\n",
        "    print (i, x2)\n",
        "  if i%3 == 1:\n",
        "    x3 = 4\n",
        "    print (i, x3)\n",
        "  if i%3 == 2:\n",
        "    if i> 4:\n",
        "      x4 = 10\n",
        "      print (i, x4)\n",
        "    else:\n",
        "      x4 = 5\n",
        "      print (i, x4)"
      ],
      "metadata": {
        "id": "_0jBVxT9ZZIp"
      },
      "execution_count": null,
      "outputs": []
    },
    {
      "cell_type": "code",
      "source": [
        "import torch\n",
        "import torch.nn as nn\n",
        "a = torch.randn(1,256, 64, 64)\n",
        "#a = torch.reshape(a, (256, 64, 64))\n",
        "atten  = torch.nn.MultiheadAttention(64, 8)\n",
        "relu = torch.nn.ReLU(True)\n",
        "class MultiSelfAttentionBlock(nn.Module):\n",
        "    def __init__(self, atten, relu, dim =64, featur = 256):\n",
        "      super(MultiSelfAttentionBlock, self).__init__()\n",
        "      self.dim = dim\n",
        "      self.featur = featur\n",
        "      self.atten  = atten\n",
        "      self.relu  = relu\n",
        "\n",
        "\n",
        "    def forward(self, x):\n",
        "      print(\"as\")\n",
        "      out = torch.reshape(x, (self.featur, self.dim, self.dim))\n",
        "      out, _ = self.atten(out, out, out)\n",
        "      out = self.relu(torch.reshape(out, (1, self.featur, self.dim, self.dim)))\n",
        "      print(\"a\")\n",
        "\n",
        "      return out\n",
        "\n",
        "#out, _ = atten(a, a, a)\n",
        "#out = torch.reshape(out, (1, 256, 64, 64))\n",
        "for i in range(3):\n",
        "  out = MultiSelfAttentionBlock(a, atten, relu)\n",
        "  #print (out.shape)"
      ],
      "metadata": {
        "id": "HikzH9oaeI0m"
      },
      "execution_count": null,
      "outputs": []
    },
    {
      "cell_type": "code",
      "source": [
        "import torch\n",
        "import torch.nn as nn\n",
        "a = torch.randn(1,256, 64, 64)\n",
        "atten  = torch.nn.MultiheadAttention(64, 8)\n",
        "relu = torch.nn.ReLU(True)\n",
        "for i in range(3):\n",
        "  print(\"as\")\n",
        "  out = torch.reshape(a, (256, 64, 64))\n",
        "  out, _ = atten(out, out, out)\n",
        "  out = torch.reshape(out, (1, 256, 64, 64))\n",
        "  out = relu(out)\n",
        "  print(\"a\")\n",
        "  print (out.shape)"
      ],
      "metadata": {
        "id": "rkky1MiGLiVF"
      },
      "execution_count": null,
      "outputs": []
    },
    {
      "cell_type": "code",
      "source": [
        "import torch\n",
        "import torch.nn as nn\n",
        "x = torch.randn(1,256, 64, 64)\n",
        "atten  = torch.nn.MultiheadAttention(64, 8)\n",
        "relu = torch.nn.ReLU(True)\n",
        "n_blocks = 8\n",
        "out = torch.reshape(x, (256, 64, 64))\n",
        "out, _ = atten(out, out, out)\n",
        "out = relu(torch.reshape(out, (1, 256, 64, 64)))\n",
        "xa1 = out\n",
        "xa11 = out\n",
        "if n_blocks>1:\n",
        "  for i in range(2, 8+1):\n",
        "    if i%3 == 2:\n",
        "      out = torch.reshape(out, (256, 64, 64))\n",
        "      out, _ = atten(out, out, out)\n",
        "      xa2 = out = relu(torch.reshape(out, (1, 256, 64, 64)))\n",
        "      print (i)\n",
        "    elif i%3 == 0:\n",
        "      out = torch.reshape(out + xa1, (256, 64, 64))\n",
        "      out, _ = atten(out, out, out)\n",
        "      xa3 = out = relu(torch.reshape(out, (1, 256, 64, 64)))\n",
        "      print (i)\n",
        "    elif i < 6:\n",
        "      out = torch.reshape(out + xa1 + xa2, (256, 64, 64))\n",
        "      out, _ = atten(out, out, out)\n",
        "      xa1 = out = relu(torch.reshape(out, (1, 256, 64, 64)))\n",
        "      print (i)\n",
        "    else:\n",
        "      out = torch.reshape(out + xa1 + xa2 + xa11, (256, 64, 64))\n",
        "      out, _ = atten(out, out, out)\n",
        "      xa11 = xa1\n",
        "      xa1 = out = relu(torch.reshape(out, (1, 256, 64, 64)))\n",
        "      print (i)"
      ],
      "metadata": {
        "id": "xS0FWeH5PWC_"
      },
      "execution_count": null,
      "outputs": []
    },
    {
      "cell_type": "code",
      "source": [
        "import torch\n",
        "import torch.nn as nn\n",
        "a = torch.randn(1,128, 56, 56)\n",
        "b = torch.randn(1,128, 28, 28)\n",
        "c = torch.randn(1,128, 14, 14)\n",
        "up1 = nn.Upsample(scale_factor=2, mode='bilinear', align_corners=True)\n",
        "up2 = nn.Upsample(scale_factor=4, mode='bilinear', align_corners=True)\n",
        "pad1 = nn.ReflectionPad2d(4)\n",
        "pad2 = nn.ReflectionPad2d(4)\n",
        "pad3 = nn.ReflectionPad2d(4)\n",
        "a = pad1 (a)\n",
        "b = up1(b)\n",
        "b = pad2(b)\n",
        "c = up2(c)\n",
        "c = pad3(c)\n",
        "print (a.shape)\n",
        "print(b.shape)\n",
        "print(c.shape)"
      ],
      "metadata": {
        "id": "Uqtv7XcgpkDb"
      },
      "execution_count": null,
      "outputs": []
    },
    {
      "cell_type": "code",
      "source": [
        "self.save(self.checkpoint_dir, counter)\n",
        "\t\t\t\t    a = (epoch+1)*1000\n",
        "\t\t\t\t    b = \"/content/gdrive/MyDrive/checkpoint/UGATIT_light_apple2orange_lsgan_4resblock_6dis_1_1_10_10_1000_1_1_1_sn_smoothing\"\n",
        "\t\t\t\t    c = \"/content/UG/checkpoint/UGATIT_light_apple2orange_lsgan_4resblock_6dis_1_1_10_10_1000_1_1_1_sn_smoothing\"\n",
        "\t\t\t\t    f1 = \"/UGATIT_light.model-\"+ str(a)+ \".index\"\n",
        "\t\t\t\t    f2 = \"/UGATIT_light.model-\"+ str(a)+ \".meta\"\n",
        "\t\t\t\t    f3 = \"/UGATIT_light.model-\" + str(a)+ \".data-00000-of-00001\"\n",
        "\t\t\t\t    f = \"/checkpoint\"\n",
        "\t\t\t\t    import shutil\n",
        "\t\t\t\t    shutil.copy( c+f1 , b+f1 )\n",
        "\t\t\t\t    shutil.copy( c+f2 , b+f2 )\n",
        "\t\t\t\t    shutil.copy( c+f3 , b+f3 )\n",
        "\t\t\t\t    shutil.copy( c+f , b+f )"
      ],
      "metadata": {
        "id": "1C0aM6hMi83r"
      },
      "execution_count": null,
      "outputs": []
    },
    {
      "cell_type": "code",
      "source": [
        "import torch\n",
        "import torch.nn as nn\n",
        "input = torch.randn(1,256, 256,3)\n",
        "S = torch.linalg.svdvals(input)\n",
        "#out = torch.reshape(s1[0,:,0], (-1,))\n",
        "R = torch.reshape(S[0,:,0], (-1,))\n",
        "G = torch.reshape(S[0,:,1], (-1,))\n",
        "B = torch.reshape(S[0,:,2], (-1,))\n",
        "\n",
        "c1 = torch.reshape(S[0,:,0], (-1,))*torch.reshape(S[0,:,1], (-1,))\n",
        "c2 = torch.cartesian_prod(torch.reshape(S[0,:,0], (-1,)), torch.reshape(S[0,:,2], (-1,)))\n",
        "c3 = torch.cartesian_prod(torch.reshape(S[0,:,1], (-1,)), torch.reshape(S[0,:,2], (-1,)))\n",
        "c4 = torch.cartesian_prod(torch.reshape(S[0,:,0], (-1,)), torch.reshape(S[0,:,1], (-1,)), torch.reshape(S[0,:,2], (-1,)))\n",
        "R1 = torch.cartesian_prod(R, G)\n",
        "print(c1.shape)\n",
        "print(c2.shape)\n",
        "print(c3.shape)\n",
        "print(c4.shape)\n",
        "print(R.shape)\n",
        "print(G.shape)\n",
        "print(B.shape)\n",
        "print(R1.shape)"
      ],
      "metadata": {
        "id": "dN_WxXQcs2Ik"
      },
      "execution_count": null,
      "outputs": []
    },
    {
      "cell_type": "code",
      "source": [
        "import torch.nn as nn\n",
        "input = torch.randn(1,256, 256,3)\n",
        "S = torch.linalg.svdvals(input)\n",
        "K = 32\n",
        "\n",
        "c1 = torch.matmul(torch.reshape(S[0,0:K,0], (K,1)), torch.reshape(S[0,0:K,1], (1,K)))\n",
        "c2 = torch.matmul(torch.reshape(S[0,0:K,1], (K,1)), torch.reshape(S[0,0:K,2], (1,K)))\n",
        "c3 = torch.matmul(torch.reshape(S[0,0:K,0], (K,1)), torch.reshape(S[0,0:K,2], (1,K)))\n",
        "c4 = torch.matmul(torch.reshape(c1, (K, K, 1)), torch.reshape(S[0,0:K,2], (1, 1, K)))\n",
        "\n",
        "svd = torch.cat((torch.reshape(c1, (1,1,K,K)),torch.reshape(c2, (1,1,K,K)),torch.reshape(c3, (1,1,K,K))), dim=1)\n",
        "print(svd.shape)\n",
        "svd = torch.cat((svd,torch.reshape(c4, (1,K,K,K))), dim=1)\n",
        "print(svd.shape)"
      ],
      "metadata": {
        "id": "30vry4hfD9lZ"
      },
      "execution_count": null,
      "outputs": []
    },
    {
      "cell_type": "code",
      "source": [
        "pip install involution_pytorch"
      ],
      "metadata": {
        "id": "HwIMXlJc_FAN"
      },
      "execution_count": null,
      "outputs": []
    },
    {
      "cell_type": "code",
      "source": [
        "import torch\n",
        "from involution_pytorch import Inv2d\n",
        "import torch.nn as nn\n",
        "inv = Inv2d(\n",
        "    channels=16,\n",
        "    kernel_size=3,\n",
        "    stride=1\n",
        ")\n",
        "\n",
        "x = torch.rand(1, 16, 32, 32)\n",
        "#y = inv(x) # [1, 16, 32, 32]\n",
        "#print (y.shape)\n",
        "m = nn.Conv2d(16, 33, 3, stride=2)\n",
        "output = m(x)\n",
        "print (output.shape)"
      ],
      "metadata": {
        "id": "MUGFVv5CyaSj"
      },
      "execution_count": null,
      "outputs": []
    },
    {
      "cell_type": "code",
      "source": [
        "import torch\n",
        "import torch.nn as nn\n",
        "import torch.nn.functional as F\n",
        "from functools import partial\n",
        "from timm.models.layers import DropPath, trunc_normal_\n",
        "import math\n",
        "\n",
        "class Mlp(nn.Module):\n",
        "    def __init__(self, in_features, hidden_features=None, out_features=None, act_layer=nn.GELU, drop=0.):\n",
        "        super().__init__()\n",
        "        out_features = out_features or in_features\n",
        "        hidden_features = hidden_features or in_features\n",
        "        self.fc1 = nn.Linear(in_features, hidden_features)\n",
        "        self.dwconv = DWConv(hidden_features)\n",
        "        self.act = act_layer()\n",
        "        self.fc2 = nn.Linear(hidden_features, out_features)\n",
        "        self.drop = nn.Dropout(drop)\n",
        "        self.apply(self._init_weights)\n",
        "\n",
        "    def _init_weights(self, m):\n",
        "        if isinstance(m, nn.Linear):\n",
        "            trunc_normal_(m.weight, std=.02)\n",
        "            if isinstance(m, nn.Linear) and m.bias is not None:\n",
        "                nn.init.constant_(m.bias, 0)\n",
        "        elif isinstance(m, nn.LayerNorm):\n",
        "            nn.init.constant_(m.bias, 0)\n",
        "            nn.init.constant_(m.weight, 1.0)\n",
        "        elif isinstance(m, nn.Conv2d):\n",
        "            fan_out = m.kernel_size[0] * m.kernel_size[1] * m.out_channels\n",
        "            fan_out //= m.groups\n",
        "            m.weight.data.normal_(0, math.sqrt(2.0 / fan_out))\n",
        "            if m.bias is not None:\n",
        "                m.bias.data.zero_()\n",
        "\n",
        "    def forward(self, x, H, W):\n",
        "        x = self.fc1(x)\n",
        "        x = self.act(x + self.dwconv(x, H, W))\n",
        "        x = self.drop(x)\n",
        "        x = self.fc2(x)\n",
        "        x = self.drop(x)\n",
        "        return x\n",
        "\n",
        "def local_conv(dim):\n",
        "    return nn.Conv2d(dim, dim, kernel_size=3, padding=1, stride=1, groups=dim)\n",
        "\n",
        "class Attention(nn.Module):\n",
        "    def __init__(self, dim, mask, num_heads=8, qkv_bias=False, qk_scale=None, attn_drop=0., proj_drop=0., sr_ratio=1, linear=False):\n",
        "        super().__init__()\n",
        "        assert dim % num_heads == 0, f\"dim {dim} should be divided by num_heads {num_heads}.\"\n",
        "\n",
        "        self.dim = dim\n",
        "        self.num_heads = num_heads\n",
        "        head_dim = dim // num_heads\n",
        "        self.scale = qk_scale or head_dim ** -0.5\n",
        "        self.sr_ratio=sr_ratio\n",
        "        if sr_ratio>1:\n",
        "            if mask:\n",
        "                self.q = nn.Linear(dim, dim, bias=qkv_bias)\n",
        "                self.kv1 = nn.Linear(dim, dim, bias=qkv_bias)\n",
        "                self.kv2 = nn.Linear(dim, dim, bias=qkv_bias)\n",
        "                if self.sr_ratio==8:\n",
        "                    f1, f2, f3 = 14*14, 56, 28\n",
        "                elif self.sr_ratio==4:\n",
        "                    f1, f2, f3 = 49, 14, 7\n",
        "                elif self.sr_ratio==2:\n",
        "                    f1, f2, f3 = 2, 1, None\n",
        "                self.f1 = nn.Linear(f1, 1)\n",
        "                self.f2 = nn.Linear(f2, 1)\n",
        "                if f3 is not None:\n",
        "                    self.f3 = nn.Linear(f3, 1)\n",
        "            else:\n",
        "                self.sr = nn.Conv2d(dim, dim, kernel_size=sr_ratio, stride=sr_ratio)\n",
        "                self.norm = nn.LayerNorm(dim)\n",
        "                self.act = nn.GELU()\n",
        "\n",
        "                self.q1 = nn.Linear(dim, dim//2, bias=qkv_bias)\n",
        "                self.kv1 = nn.Linear(dim, dim, bias=qkv_bias)\n",
        "                self.q2 = nn.Linear(dim, dim // 2, bias=qkv_bias)\n",
        "                self.kv2 = nn.Linear(dim, dim, bias=qkv_bias)\n",
        "        else:\n",
        "            self.q = nn.Linear(dim, dim, bias=qkv_bias)\n",
        "            self.kv = nn.Linear(dim, dim * 2, bias=qkv_bias)\n",
        "\n",
        "        self.lepe_linear = nn.Linear(dim, dim)\n",
        "        self.lepe_conv = local_conv(dim)\n",
        "        self.attn_drop = nn.Dropout(attn_drop)\n",
        "        self.proj = nn.Linear(dim, dim)\n",
        "        self.proj_drop = nn.Dropout(proj_drop)\n",
        "\n",
        "        self.linear = linear\n",
        "        self.apply(self._init_weights)\n",
        "\n",
        "    def _init_weights(self, m):\n",
        "        if isinstance(m, nn.Linear):\n",
        "            trunc_normal_(m.weight, std=.02)\n",
        "            if isinstance(m, nn.Linear) and m.bias is not None:\n",
        "                nn.init.constant_(m.bias, 0)\n",
        "        elif isinstance(m, nn.LayerNorm):\n",
        "            nn.init.constant_(m.bias, 0)\n",
        "            nn.init.constant_(m.weight, 1.0)\n",
        "        elif isinstance(m, nn.Conv2d):\n",
        "            fan_out = m.kernel_size[0] * m.kernel_size[1] * m.out_channels\n",
        "            fan_out //= m.groups\n",
        "            m.weight.data.normal_(0, math.sqrt(2.0 / fan_out))\n",
        "            if m.bias is not None:\n",
        "                m.bias.data.zero_()\n",
        "\n",
        "    def forward(self, x, H, W, mask):\n",
        "        B, N, C = x.shape\n",
        "        lepe = self.lepe_conv(\n",
        "            self.lepe_linear(x).transpose(1, 2).view(B, C, H, W)).view(B, C, -1).transpose(-1, -2)\n",
        "        if self.sr_ratio > 1:\n",
        "            if mask is None:\n",
        "                # global\n",
        "                q1 = self.q1(x).reshape(B, N, self.num_heads//2, C // self.num_heads).permute(0, 2, 1, 3)\n",
        "                x_ = x.permute(0, 2, 1).reshape(B, C, H, W)\n",
        "                x_1 = self.sr(x_).reshape(B, C, -1).permute(0, 2, 1)\n",
        "                x_1 = self.act(self.norm(x_1))\n",
        "                kv1 = self.kv1(x_1).reshape(B, -1, 2, self.num_heads//2, C // self.num_heads).permute(2, 0, 3, 1, 4)\n",
        "                k1, v1 = kv1[0], kv1[1] #B head N C\n",
        "\n",
        "                attn1 = (q1 @ k1.transpose(-2, -1)) * self.scale #B head Nq Nkv\n",
        "                attn1 = attn1.softmax(dim=-1)\n",
        "                attn1 = self.attn_drop(attn1)\n",
        "                x1 = (attn1 @ v1).transpose(1, 2).reshape(B, N, C//2)\n",
        "\n",
        "                global_mask_value = torch.mean(attn1.detach().mean(1), dim=1) # B Nk  #max ?  mean ?\n",
        "                global_mask_value = F.interpolate(global_mask_value.view(B,1,H//self.sr_ratio,W//self.sr_ratio),\n",
        "                                                  (H, W), mode='nearest')[:, 0]\n",
        "\n",
        "                # local\n",
        "                q2 = self.q2(x).reshape(B, N, self.num_heads // 2, C // self.num_heads).permute(0, 2, 1, 3) #B head N C\n",
        "                kv2 = self.kv2(x_.reshape(B, C, -1).permute(0, 2, 1)).reshape(B, -1, 2, self.num_heads // 2,\n",
        "                                                                          C // self.num_heads).permute(2, 0, 3, 1, 4)\n",
        "                k2, v2 = kv2[0], kv2[1]\n",
        "                q_window = 7\n",
        "                window_size= 7\n",
        "                q2, k2, v2 = window_partition(q2, q_window, H, W), window_partition(k2, window_size, H, W), \\\n",
        "                             window_partition(v2, window_size, H, W)\n",
        "                attn2 = (q2 @ k2.transpose(-2, -1)) * self.scale\n",
        "                # (B*numheads*num_windows, window_size*window_size, window_size*window_size)\n",
        "                attn2 = attn2.softmax(dim=-1)\n",
        "                attn2 = self.attn_drop(attn2)\n",
        "\n",
        "                x2 = (attn2 @ v2)  # B*numheads*num_windows, window_size*window_size, C   .transpose(1, 2).reshape(B, N, C)\n",
        "                x2 = window_reverse(x2, q_window, H, W, self.num_heads // 2)\n",
        "\n",
        "                local_mask_value = torch.mean(attn2.detach().view(B, self.num_heads//2, H//window_size*W//window_size, window_size*window_size, window_size*window_size).mean(1), dim=2)\n",
        "                local_mask_value = local_mask_value.view(B, H // window_size, W // window_size, window_size, window_size)\n",
        "                local_mask_value=local_mask_value.permute(0, 1, 3, 2, 4).contiguous().view(B, H, W)\n",
        "\n",
        "                # mask B H W\n",
        "                x = torch.cat([x1, x2], dim=-1)\n",
        "                x = self.proj(x+lepe)\n",
        "                x = self.proj_drop(x)\n",
        "                # cal mask\n",
        "                mask = local_mask_value+global_mask_value\n",
        "                mask_1 = mask.view(B, H * W)\n",
        "                mask_2 = mask.permute(0, 2, 1).reshape(B, H * W)\n",
        "                mask = [mask_1, mask_2]\n",
        "            else:\n",
        "                q = self.q(x).reshape(B, N, self.num_heads, C // self.num_heads).permute(0, 2, 1, 3)\n",
        "\n",
        "                # mask [local_mask global_mask]  local_mask [value index]  value [B, H, W]\n",
        "                # use mask to fuse\n",
        "                mask_1, mask_2 = mask\n",
        "                mask_sort1, mask_sort_index1 = torch.sort(mask_1, dim=1)\n",
        "                mask_sort2, mask_sort_index2 = torch.sort(mask_2, dim=1)\n",
        "                if self.sr_ratio == 8:\n",
        "                    token1, token2, token3 = H * W // (14 * 14), H * W // 56, H * W // 28\n",
        "                    token1, token2, token3 = token1 // 4, token2 // 2, token3 // 4\n",
        "                elif self.sr_ratio == 4:\n",
        "                    token1, token2, token3 = H * W // 49, H * W // 14, H * W // 7\n",
        "                    token1, token2, token3 = token1 // 4, token2 // 2, token3 // 4\n",
        "                elif self.sr_ratio == 2:\n",
        "                    token1, token2 = H * W // 2, H * W // 1\n",
        "                    token1, token2 = token1 // 2, token2 // 2\n",
        "                if self.sr_ratio==4 or self.sr_ratio==8:\n",
        "                    p1 = torch.gather(x, 1, mask_sort_index1[:, :H * W // 4].unsqueeze(-1).repeat(1, 1, C))  # B, N//4, C\n",
        "                    p2 = torch.gather(x, 1, mask_sort_index1[:, H * W // 4:H * W // 4 * 3].unsqueeze(-1).repeat(1, 1, C))\n",
        "                    p3 = torch.gather(x, 1, mask_sort_index1[:, H * W // 4 * 3:].unsqueeze(-1).repeat(1, 1, C))\n",
        "                    seq1 = torch.cat([self.f1(p1.permute(0, 2, 1).reshape(B, C, token1, -1)).squeeze(-1),\n",
        "                                      self.f2(p2.permute(0, 2, 1).reshape(B, C, token2, -1)).squeeze(-1),\n",
        "                                      self.f3(p3.permute(0, 2, 1).reshape(B, C, token3, -1)).squeeze(-1)], dim=-1).permute(0,2,1)  # B N C\n",
        "\n",
        "                    x_ = x.view(B, H, W, C).permute(0, 2, 1, 3).reshape(B, H * W, C)\n",
        "                    p1_ = torch.gather(x_, 1, mask_sort_index2[:, :H * W // 4].unsqueeze(-1).repeat(1, 1, C))  # B, N//4, C\n",
        "                    p2_ = torch.gather(x_, 1, mask_sort_index2[:, H * W // 4:H * W // 4 * 3].unsqueeze(-1).repeat(1, 1, C))\n",
        "                    p3_ = torch.gather(x_, 1, mask_sort_index2[:, H * W // 4 * 3:].unsqueeze(-1).repeat(1, 1, C))\n",
        "                    seq2 = torch.cat([self.f1(p1_.permute(0, 2, 1).reshape(B, C, token1, -1)).squeeze(-1),\n",
        "                                      self.f2(p2_.permute(0, 2, 1).reshape(B, C, token2, -1)).squeeze(-1),\n",
        "                                      self.f3(p3_.permute(0, 2, 1).reshape(B, C, token3, -1)).squeeze(-1)], dim=-1).permute(0,2,1)  # B N C\n",
        "                elif self.sr_ratio==2:\n",
        "                    p1 = torch.gather(x, 1, mask_sort_index1[:, :H * W // 2].unsqueeze(-1).repeat(1, 1, C))  # B, N//4, C\n",
        "                    p2 = torch.gather(x, 1, mask_sort_index1[:, H * W // 2:].unsqueeze(-1).repeat(1, 1, C))\n",
        "                    seq1 = torch.cat([self.f1(p1.permute(0, 2, 1).reshape(B, C, token1, -1)).squeeze(-1),\n",
        "                                      self.f2(p2.permute(0, 2, 1).reshape(B, C, token2, -1)).squeeze(-1)], dim=-1).permute(0, 2, 1)  # B N C\n",
        "\n",
        "                    x_ = x.view(B, H, W, C).permute(0, 2, 1, 3).reshape(B, H * W, C)\n",
        "                    p1_ = torch.gather(x_, 1, mask_sort_index2[:, :H * W // 2].unsqueeze(-1).repeat(1, 1, C))  # B, N//4, C\n",
        "                    p2_ = torch.gather(x_, 1, mask_sort_index2[:, H * W // 2:].unsqueeze(-1).repeat(1, 1, C))\n",
        "                    seq2 = torch.cat([self.f1(p1_.permute(0, 2, 1).reshape(B, C, token1, -1)).squeeze(-1),\n",
        "                                      self.f2(p2_.permute(0, 2, 1).reshape(B, C, token2, -1)).squeeze(-1)], dim=-1).permute(0, 2, 1)  # B N C\n",
        "\n",
        "                kv1 = self.kv1(seq1).reshape(B, -1, 2, self.num_heads // 2, C // self.num_heads).permute(2, 0, 3, 1, 4) # kv B heads N C\n",
        "                kv2 = self.kv2(seq2).reshape(B, -1, 2, self.num_heads // 2, C // self.num_heads).permute(2, 0, 3, 1, 4)\n",
        "                kv = torch.cat([kv1, kv2], dim=2)\n",
        "                k, v = kv[0], kv[1]\n",
        "                attn = (q @ k.transpose(-2, -1)) * self.scale\n",
        "                attn = attn.softmax(dim=-1)\n",
        "                attn = self.attn_drop(attn)\n",
        "\n",
        "                x = (attn @ v).transpose(1, 2).reshape(B, N, C)\n",
        "                x = self.proj(x+lepe)\n",
        "                x = self.proj_drop(x)\n",
        "                mask=None\n",
        "\n",
        "        else:\n",
        "            q = self.q(x).reshape(B, N, self.num_heads, C // self.num_heads).permute(0, 2, 1, 3)\n",
        "            kv = self.kv(x).reshape(B, -1, 2, self.num_heads, C // self.num_heads).permute(2, 0, 3, 1, 4)\n",
        "\n",
        "            k, v = kv[0], kv[1]\n",
        "\n",
        "            attn = (q @ k.transpose(-2, -1)) * self.scale\n",
        "            attn = attn.softmax(dim=-1)\n",
        "            attn = self.attn_drop(attn)\n",
        "            x = (attn @ v).transpose(1, 2).reshape(B, N, C)\n",
        "            x = self.proj(x+lepe)\n",
        "            x = self.proj_drop(x)\n",
        "            mask=None\n",
        "\n",
        "        return x, mask\n",
        "\n",
        "def window_partition(x, window_size, H, W):\n",
        "    B, num_heads, N, C = x.shape\n",
        "    x = x.contiguous().view(B*num_heads, N, C).contiguous().view(B*num_heads, H, W, C)\n",
        "    B, H, W, C = x.shape\n",
        "    x = x.view(B, H // window_size, window_size, W // window_size, window_size, C)\n",
        "    windows = x.permute(0, 1, 3, 2, 4, 5).contiguous().view(-1, window_size, window_size, C).\\\n",
        "        view(-1, window_size*window_size, C)\n",
        "    return windows  #(B*numheads*num_windows, window_size, window_size, C)\n",
        "\n",
        "\n",
        "def window_reverse(windows, window_size, H, W, head):\n",
        "    Bhead = int(windows.shape[0] / (H * W / window_size / window_size))\n",
        "    x = windows.view(Bhead, H // window_size, W // window_size, window_size, window_size, -1)\n",
        "    x = x.permute(0, 1, 3, 2, 4, 5).contiguous().view(Bhead, H, W, -1).view(Bhead//head, head, H, W, -1)\\\n",
        "        .contiguous().permute(0,2,3,1,4).contiguous().view(Bhead//head, H, W, -1).view(Bhead//head, H*W, -1)\n",
        "    return x #(B, H, W, C)\n",
        "\n",
        "class Block(nn.Module):\n",
        "\n",
        "    def __init__(self, dim, mask, num_heads, mlp_ratio=4., qkv_bias=False, qk_scale=None, drop=0., attn_drop=0.,\n",
        "                 drop_path=0., act_layer=nn.GELU, norm_layer=nn.LayerNorm, sr_ratio=1, linear=False):\n",
        "        super().__init__()\n",
        "        self.norm1 = norm_layer(dim)\n",
        "        self.attn = Attention(\n",
        "            dim, mask,\n",
        "            num_heads=num_heads, qkv_bias=qkv_bias, qk_scale=qk_scale,\n",
        "            attn_drop=attn_drop, proj_drop=drop, sr_ratio=sr_ratio, linear=linear)\n",
        "        # NOTE: drop path for stochastic depth, we shall see if this is better than dropout here\n",
        "        self.drop_path = DropPath(drop_path) if drop_path > 0. else nn.Identity()\n",
        "        self.norm2 = norm_layer(dim)\n",
        "        mlp_hidden_dim = int(dim * mlp_ratio)\n",
        "        self.mlp = Mlp(in_features=dim, hidden_features=mlp_hidden_dim, act_layer=act_layer, drop=drop)\n",
        "\n",
        "        self.apply(self._init_weights)\n",
        "\n",
        "    def _init_weights(self, m):\n",
        "        if isinstance(m, nn.Linear):\n",
        "            trunc_normal_(m.weight, std=.02)\n",
        "            if isinstance(m, nn.Linear) and m.bias is not None:\n",
        "                nn.init.constant_(m.bias, 0)\n",
        "        elif isinstance(m, nn.LayerNorm):\n",
        "            nn.init.constant_(m.bias, 0)\n",
        "            nn.init.constant_(m.weight, 1.0)\n",
        "        elif isinstance(m, nn.Conv2d):\n",
        "            fan_out = m.kernel_size[0] * m.kernel_size[1] * m.out_channels\n",
        "            fan_out //= m.groups\n",
        "            m.weight.data.normal_(0, math.sqrt(2.0 / fan_out))\n",
        "            if m.bias is not None:\n",
        "                m.bias.data.zero_()\n",
        "\n",
        "    def forward(self, x, H, W, mask):\n",
        "        x_, mask = self.attn(self.norm1(x), H, W, mask)\n",
        "        x = x + self.drop_path(x_)\n",
        "        x = x + self.drop_path(self.mlp(self.norm2(x), H, W))\n",
        "\n",
        "        return x, mask\n",
        "\n",
        "class DWConv(nn.Module):\n",
        "    def __init__(self, dim=768):\n",
        "        super(DWConv, self).__init__()\n",
        "        self.dwconv = nn.Conv2d(dim, dim, 3, 1, 1, bias=True, groups=dim)\n",
        "\n",
        "    def forward(self, x, H, W):\n",
        "        B, N, C = x.shape\n",
        "        x = x.transpose(1, 2).view(B, C, H, W)\n",
        "        x = self.dwconv(x)\n",
        "        x = x.flatten(2).transpose(1, 2)\n",
        "\n",
        "        return x\n",
        "\n",
        "block1 = Block(dim=embed_dims[i], mask=True if (j%2==1 and i<num_stages-1) else False, num_heads=num_heads[i],\n",
        "                mlp_ratio=mlp_ratios[i], qkv_bias=qkv_bias, qk_scale=qk_scale,\n",
        "                drop=drop_rate, attn_drop=attn_drop_rate, drop_path=dpr[cur + j], norm_layer=norm_layer,\n",
        "                sr_ratio=sr_ratios[i], linear=linear)\n",
        "\n",
        "x = torch.rand(1, 16, 32, 32)\n",
        "_, _, H, W = x.shape\n",
        "mask= None\n",
        "x, mask = block1(x, H, W, mask)"
      ],
      "metadata": {
        "id": "iscyrRdF3gma"
      },
      "execution_count": null,
      "outputs": []
    },
    {
      "cell_type": "code",
      "source": [
        "dim=embed_dims[i] #\n",
        "mask=True if (j%2==1 and i<num_stages-1) else False #\n",
        "num_heads=num_heads[i] #\n",
        "mlp_ratio=mlp_ratios[i] #\n",
        "qkv_bias=qkv_bias #\n",
        "qk_scale=qk_scale #\n",
        "drop=drop_rate #\n",
        "attn_drop=attn_drop_rate #\n",
        "drop_path=dpr[cur + j] #\n",
        "norm_layer=norm_layer #\n",
        "sr_ratio=sr_ratios[i] #\n",
        "linear=linear #\n"
      ],
      "metadata": {
        "id": "vfR9Mg0oCiRg"
      },
      "execution_count": null,
      "outputs": []
    }
  ]
}